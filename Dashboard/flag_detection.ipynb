{
 "cells": [
  {
   "cell_type": "code",
   "execution_count": 1,
   "id": "78061bf4",
   "metadata": {},
   "outputs": [],
   "source": [
    "import os\n",
    "import numpy as np\n",
    "import pandas as pd\n",
    "import matplotlib.pyplot as plt\n",
    "import seaborn as sns\n",
    "from matplotlib.image import imread\n",
    "%matplotlib inline\n",
    "from sklearn.model_selection import train_test_split\n"
   ]
  },
  {
   "cell_type": "code",
   "execution_count": 72,
   "id": "8ba1fa22",
   "metadata": {},
   "outputs": [],
   "source": [
    "my_data_dir=r\"C:\\Users\\deepthi devaraj\\flag_data\""
   ]
  },
  {
   "cell_type": "code",
   "execution_count": 73,
   "id": "9ca52b1d",
   "metadata": {},
   "outputs": [
    {
     "data": {
      "text/plain": [
       "['10_country_test', '10_country_train_']"
      ]
     },
     "execution_count": 73,
     "metadata": {},
     "output_type": "execute_result"
    }
   ],
   "source": [
    "os.listdir(my_data_dir)"
   ]
  },
  {
   "cell_type": "code",
   "execution_count": 78,
   "id": "7f1bcdce",
   "metadata": {},
   "outputs": [
    {
     "data": {
      "text/plain": [
       "['Argentina',\n",
       " 'Australia',\n",
       " 'Brazil',\n",
       " 'China',\n",
       " 'Germany',\n",
       " 'Japan',\n",
       " 'Mexico',\n",
       " 'Russia',\n",
       " 'Saudi Arabia',\n",
       " 'Spain']"
      ]
     },
     "execution_count": 78,
     "metadata": {},
     "output_type": "execute_result"
    }
   ],
   "source": [
    "os.listdir(r\"C:\\Users\\deepthi devaraj\\flag_data\\10_country_test\")"
   ]
  },
  {
   "cell_type": "code",
   "execution_count": 79,
   "id": "6b0dbf17",
   "metadata": {},
   "outputs": [
    {
     "data": {
      "text/plain": [
       "['Argentina',\n",
       " 'Australia',\n",
       " 'Brazil',\n",
       " 'China',\n",
       " 'Germany',\n",
       " 'Japan',\n",
       " 'Mexico',\n",
       " 'Russia',\n",
       " 'Saudi Arabia',\n",
       " 'Spain']"
      ]
     },
     "execution_count": 79,
     "metadata": {},
     "output_type": "execute_result"
    }
   ],
   "source": [
    "os.listdir(r\"C:\\Users\\deepthi devaraj\\flag_data\\10_country_train_\")"
   ]
  },
  {
   "cell_type": "code",
   "execution_count": 1,
   "id": "d779d522",
   "metadata": {},
   "outputs": [],
   "source": [
    "from __future__ import print_function\n",
    "\n",
    "import keras\n",
    "from keras import backend as K\n",
    "from IPython.display import SVG\n",
    "from keras.optimizers import Adam\n",
    "from keras.utils import plot_model\n",
    "from keras.models import load_model\n",
    "from keras.models import Model, Sequential\n",
    "from keras.callbacks import ReduceLROnPlateau\n",
    "from keras.preprocessing.image import ImageDataGenerator\n",
    "from keras.layers import Input, Conv2D, Dense, Flatten, MaxPool2D\n",
    "from keras.layers import Activation, Add, BatchNormalization, Dropout"
   ]
  },
  {
   "cell_type": "code",
   "execution_count": 81,
   "id": "0f16f174",
   "metadata": {},
   "outputs": [
    {
     "name": "stdout",
     "output_type": "stream",
     "text": [
      "Model: \"sequential_3\"\n",
      "_________________________________________________________________\n",
      " Layer (type)                Output Shape              Param #   \n",
      "=================================================================\n",
      " conv2d_27 (Conv2D)          (None, 64, 64, 64)        1792      \n",
      "                                                                 \n",
      " conv2d_28 (Conv2D)          (None, 64, 64, 64)        36928     \n",
      "                                                                 \n",
      " max_pooling2d_12 (MaxPooli  (None, 32, 32, 64)        0         \n",
      " ng2D)                                                           \n",
      "                                                                 \n",
      " conv2d_29 (Conv2D)          (None, 32, 32, 512)       295424    \n",
      "                                                                 \n",
      " conv2d_30 (Conv2D)          (None, 32, 32, 512)       2359808   \n",
      "                                                                 \n",
      " max_pooling2d_13 (MaxPooli  (None, 16, 16, 512)       0         \n",
      " ng2D)                                                           \n",
      "                                                                 \n",
      " conv2d_31 (Conv2D)          (None, 16, 16, 256)       1179904   \n",
      "                                                                 \n",
      " conv2d_32 (Conv2D)          (None, 16, 16, 256)       590080    \n",
      "                                                                 \n",
      " conv2d_33 (Conv2D)          (None, 16, 16, 256)       590080    \n",
      "                                                                 \n",
      " max_pooling2d_14 (MaxPooli  (None, 8, 8, 256)         0         \n",
      " ng2D)                                                           \n",
      "                                                                 \n",
      " conv2d_34 (Conv2D)          (None, 8, 8, 128)         295040    \n",
      "                                                                 \n",
      " conv2d_35 (Conv2D)          (None, 8, 8, 128)         147584    \n",
      "                                                                 \n",
      " max_pooling2d_15 (MaxPooli  (None, 4, 4, 128)         0         \n",
      " ng2D)                                                           \n",
      "                                                                 \n",
      " flatten_3 (Flatten)         (None, 2048)              0         \n",
      "                                                                 \n",
      " dense_6 (Dense)             (None, 100)               204900    \n",
      "                                                                 \n",
      " dropout_3 (Dropout)         (None, 100)               0         \n",
      "                                                                 \n",
      " dense_7 (Dense)             (None, 10)                1010      \n",
      "                                                                 \n",
      "=================================================================\n",
      "Total params: 5702550 (21.75 MB)\n",
      "Trainable params: 5702550 (21.75 MB)\n",
      "Non-trainable params: 0 (0.00 Byte)\n",
      "_________________________________________________________________\n"
     ]
    }
   ],
   "source": [
    "model = Sequential()\n",
    "\n",
    "\n",
    "model.add(Conv2D(activation ='relu', input_shape = (64,64,3), filters=64, kernel_size=(3, 3), padding=\"SAME\", strides=(1, 1)))\n",
    "model.add(Conv2D(activation ='relu',filters=64, kernel_size=(3, 3), padding=\"SAME\", strides=(1,1)))\n",
    "model.add(MaxPool2D(pool_size=(2, 2), strides=(2, 2)))\n",
    "\n",
    "\n",
    "model.add(Conv2D(activation ='relu', filters=512, kernel_size=(3, 3), padding=\"SAME\", strides=(1, 1)))\n",
    "model.add(Conv2D(activation ='relu', filters=512, kernel_size=(3, 3), padding=\"SAME\", strides=(1, 1)))\n",
    "model.add(MaxPool2D(pool_size=(2, 2), strides=(2, 2)))\n",
    "\n",
    "\n",
    "model.add(Conv2D(activation ='relu', filters=256, kernel_size=(3, 3), padding=\"SAME\", strides=(1, 1)))\n",
    "model.add(Conv2D(activation ='relu', filters=256, kernel_size=(3, 3), padding=\"SAME\", strides=(1, 1)))\n",
    "model.add(Conv2D(activation ='relu', filters=256, kernel_size=(3, 3), padding=\"SAME\", strides=(1, 1)))\n",
    "model.add(MaxPool2D(pool_size=(2, 2), strides=(2, 2)))\n",
    "\n",
    "\n",
    "model.add(Conv2D(activation ='relu', filters=128, kernel_size=(3, 3), padding=\"SAME\", strides=(1, 1)))\n",
    "model.add(Conv2D(activation ='relu', filters=128, kernel_size=(3, 3), padding=\"SAME\", strides=(1, 1)))\n",
    "model.add(MaxPool2D(pool_size=(2, 2), strides=(2, 2)))\n",
    "\n",
    "\n",
    "\n",
    "model.add(Flatten())\n",
    "model.add(Dense(units = 100, activation='relu'))\n",
    "model.add(Dropout(0.5))\n",
    "model.add(Dense(units = 10, activation='softmax', kernel_initializer='uniform'))\n",
    "\n",
    "model.summary()"
   ]
  },
  {
   "cell_type": "code",
   "execution_count": 82,
   "id": "f72ca7a3",
   "metadata": {},
   "outputs": [],
   "source": [
    "optimizer = Adam(learning_rate=0.001)"
   ]
  },
  {
   "cell_type": "code",
   "execution_count": 83,
   "id": "00335a80",
   "metadata": {},
   "outputs": [],
   "source": [
    "model.compile(loss='categorical_crossentropy', optimizer = 'adam', metrics=[\"accuracy\"])"
   ]
  },
  {
   "cell_type": "code",
   "execution_count": 84,
   "id": "2ac3329a",
   "metadata": {},
   "outputs": [],
   "source": [
    "learning_rate_reduction = ReduceLROnPlateau(monitor='val_acc', \n",
    "                                            patience=3, \n",
    "                                            verbose=1, \n",
    "                                            factor=0.5, \n",
    "                                            min_lr=0.00001)"
   ]
  },
  {
   "cell_type": "code",
   "execution_count": 85,
   "id": "80a92880",
   "metadata": {},
   "outputs": [],
   "source": [
    "train_datagen = ImageDataGenerator(\n",
    "                                    rotation_range=40,\n",
    "                                    width_shift_range=0.2,\n",
    "                                    height_shift_range=0.2,\n",
    "                                    rescale=1./255,\n",
    "                                    shear_range=0.2,\n",
    "                                    zoom_range=0.2,\n",
    "                                    horizontal_flip=True,\n",
    "                                    fill_mode='nearest')\n",
    "\n",
    "\n",
    "test_datagen = ImageDataGenerator(rotation_range=40,\n",
    "                                    width_shift_range=0.2,\n",
    "                                    height_shift_range=0.2,\n",
    "                                    rescale=1./255,\n",
    "                                    shear_range=0.2,\n",
    "                                    zoom_range=0.2,\n",
    "                                    horizontal_flip=True,\n",
    "                                    fill_mode='nearest')\n",
    "     "
   ]
  },
  {
   "cell_type": "code",
   "execution_count": 87,
   "id": "f34a07bb",
   "metadata": {},
   "outputs": [
    {
     "name": "stdout",
     "output_type": "stream",
     "text": [
      "Found 4283 images belonging to 10 classes.\n",
      "Found 1049 images belonging to 10 classes.\n"
     ]
    }
   ],
   "source": [
    "\n",
    "train_generator = train_datagen.flow_from_directory(\n",
    "                                                    r\"C:\\Users\\deepthi devaraj\\flag_data\\10_country_train_\",\n",
    "                                                    target_size=(64, 64),\n",
    "                                                    batch_size=30,\n",
    "                                                    color_mode='rgb',\n",
    "                                                    class_mode='categorical')\n",
    "\n",
    "validation_generator = test_datagen.flow_from_directory(\n",
    "                                                    r\"C:\\Users\\deepthi devaraj\\flag_data\\10_country_test\",\n",
    "                                                    target_size=(64, 64),\n",
    "                                                    batch_size=30,\n",
    "                                                    color_mode='rgb',\n",
    "                                                    class_mode='categorical')"
   ]
  },
  {
   "cell_type": "code",
   "execution_count": 88,
   "id": "9104c46e",
   "metadata": {},
   "outputs": [
    {
     "data": {
      "text/plain": [
       "{'Argentina': 0,\n",
       " 'Australia': 1,\n",
       " 'Brazil': 2,\n",
       " 'China': 3,\n",
       " 'Germany': 4,\n",
       " 'Japan': 5,\n",
       " 'Mexico': 6,\n",
       " 'Russia': 7,\n",
       " 'Saudi Arabia': 8,\n",
       " 'Spain': 9}"
      ]
     },
     "execution_count": 88,
     "metadata": {},
     "output_type": "execute_result"
    }
   ],
   "source": [
    "train_generator.class_indices"
   ]
  },
  {
   "cell_type": "code",
   "execution_count": 89,
   "id": "8e7b7c3e",
   "metadata": {},
   "outputs": [
    {
     "data": {
      "text/plain": [
       "array([0, 0, 0, ..., 9, 9, 9])"
      ]
     },
     "execution_count": 89,
     "metadata": {},
     "output_type": "execute_result"
    }
   ],
   "source": [
    "train_generator.classes"
   ]
  },
  {
   "cell_type": "code",
   "execution_count": 90,
   "id": "c1027c95",
   "metadata": {},
   "outputs": [],
   "source": [
    "from PIL import ImageFile\n",
    "ImageFile.LOAD_TRUNCATED_IMAGES = True"
   ]
  },
  {
   "cell_type": "code",
   "execution_count": 94,
   "id": "bcd424e5",
   "metadata": {},
   "outputs": [
    {
     "name": "stderr",
     "output_type": "stream",
     "text": [
      "C:\\Users\\deepthi devaraj\\AppData\\Local\\Temp\\ipykernel_28260\\2027924930.py:1: UserWarning: `Model.fit_generator` is deprecated and will be removed in a future version. Please use `Model.fit`, which supports generators.\n",
      "  history = model.fit_generator(\n"
     ]
    },
    {
     "name": "stdout",
     "output_type": "stream",
     "text": [
      "Epoch 1/50\n",
      "143/142 [==============================] - ETA: 0s - loss: 2.1540 - accuracy: 0.1744WARNING:tensorflow:Your input ran out of data; interrupting training. Make sure that your dataset or generator can generate at least `steps_per_epoch * epochs` batches (in this case, 50 batches). You may need to use the repeat() function when building your dataset.\n"
     ]
    },
    {
     "name": "stderr",
     "output_type": "stream",
     "text": [
      "WARNING:tensorflow:Your input ran out of data; interrupting training. Make sure that your dataset or generator can generate at least `steps_per_epoch * epochs` batches (in this case, 50 batches). You may need to use the repeat() function when building your dataset.\n"
     ]
    },
    {
     "name": "stdout",
     "output_type": "stream",
     "text": [
      "WARNING:tensorflow:Learning rate reduction is conditioned on metric `val_acc` which is not available. Available metrics are: loss,accuracy,val_loss,val_accuracy,lr\n"
     ]
    },
    {
     "name": "stderr",
     "output_type": "stream",
     "text": [
      "WARNING:tensorflow:Learning rate reduction is conditioned on metric `val_acc` which is not available. Available metrics are: loss,accuracy,val_loss,val_accuracy,lr\n"
     ]
    },
    {
     "name": "stdout",
     "output_type": "stream",
     "text": [
      "142/142 [==============================] - 535s 4s/step - loss: 2.1540 - accuracy: 0.1744 - val_loss: 1.5155 - val_accuracy: 0.4490 - lr: 0.0010\n",
      "Epoch 2/50\n",
      "143/142 [==============================] - ETA: 0s - loss: 1.3785 - accuracy: 0.4726WARNING:tensorflow:Learning rate reduction is conditioned on metric `val_acc` which is not available. Available metrics are: loss,accuracy,lr\n"
     ]
    },
    {
     "name": "stderr",
     "output_type": "stream",
     "text": [
      "WARNING:tensorflow:Learning rate reduction is conditioned on metric `val_acc` which is not available. Available metrics are: loss,accuracy,lr\n"
     ]
    },
    {
     "name": "stdout",
     "output_type": "stream",
     "text": [
      "142/142 [==============================] - 405s 3s/step - loss: 1.3785 - accuracy: 0.4726 - lr: 0.0010\n",
      "Epoch 3/50\n",
      "143/142 [==============================] - ETA: 0s - loss: 1.0706 - accuracy: 0.5830WARNING:tensorflow:Learning rate reduction is conditioned on metric `val_acc` which is not available. Available metrics are: loss,accuracy,lr\n"
     ]
    },
    {
     "name": "stderr",
     "output_type": "stream",
     "text": [
      "WARNING:tensorflow:Learning rate reduction is conditioned on metric `val_acc` which is not available. Available metrics are: loss,accuracy,lr\n"
     ]
    },
    {
     "name": "stdout",
     "output_type": "stream",
     "text": [
      "142/142 [==============================] - 458s 3s/step - loss: 1.0706 - accuracy: 0.5830 - lr: 0.0010\n",
      "Epoch 4/50\n",
      "143/142 [==============================] - ETA: -1s - loss: 0.9212 - accuracy: 0.6666WARNING:tensorflow:Learning rate reduction is conditioned on metric `val_acc` which is not available. Available metrics are: loss,accuracy,lr\n"
     ]
    },
    {
     "name": "stderr",
     "output_type": "stream",
     "text": [
      "WARNING:tensorflow:Learning rate reduction is conditioned on metric `val_acc` which is not available. Available metrics are: loss,accuracy,lr\n"
     ]
    },
    {
     "name": "stdout",
     "output_type": "stream",
     "text": [
      "142/142 [==============================] - 620s 4s/step - loss: 0.9212 - accuracy: 0.6666 - lr: 0.0010\n",
      "Epoch 5/50\n",
      "143/142 [==============================] - ETA: -1s - loss: 0.7871 - accuracy: 0.7060WARNING:tensorflow:Learning rate reduction is conditioned on metric `val_acc` which is not available. Available metrics are: loss,accuracy,lr\n"
     ]
    },
    {
     "name": "stderr",
     "output_type": "stream",
     "text": [
      "WARNING:tensorflow:Learning rate reduction is conditioned on metric `val_acc` which is not available. Available metrics are: loss,accuracy,lr\n"
     ]
    },
    {
     "name": "stdout",
     "output_type": "stream",
     "text": [
      "142/142 [==============================] - 756s 5s/step - loss: 0.7871 - accuracy: 0.7060 - lr: 0.0010\n",
      "Epoch 6/50\n",
      "143/142 [==============================] - ETA: 0s - loss: 0.6795 - accuracy: 0.7717WARNING:tensorflow:Learning rate reduction is conditioned on metric `val_acc` which is not available. Available metrics are: loss,accuracy,lr\n"
     ]
    },
    {
     "name": "stderr",
     "output_type": "stream",
     "text": [
      "WARNING:tensorflow:Learning rate reduction is conditioned on metric `val_acc` which is not available. Available metrics are: loss,accuracy,lr\n"
     ]
    },
    {
     "name": "stdout",
     "output_type": "stream",
     "text": [
      "142/142 [==============================] - 525s 4s/step - loss: 0.6795 - accuracy: 0.7717 - lr: 0.0010\n",
      "Epoch 7/50\n",
      "143/142 [==============================] - ETA: 0s - loss: 0.5601 - accuracy: 0.8328WARNING:tensorflow:Learning rate reduction is conditioned on metric `val_acc` which is not available. Available metrics are: loss,accuracy,lr\n"
     ]
    },
    {
     "name": "stderr",
     "output_type": "stream",
     "text": [
      "WARNING:tensorflow:Learning rate reduction is conditioned on metric `val_acc` which is not available. Available metrics are: loss,accuracy,lr\n"
     ]
    },
    {
     "name": "stdout",
     "output_type": "stream",
     "text": [
      "142/142 [==============================] - 479s 3s/step - loss: 0.5601 - accuracy: 0.8328 - lr: 0.0010\n",
      "Epoch 8/50\n",
      "143/142 [==============================] - ETA: 0s - loss: 0.5283 - accuracy: 0.8489WARNING:tensorflow:Learning rate reduction is conditioned on metric `val_acc` which is not available. Available metrics are: loss,accuracy,lr\n"
     ]
    },
    {
     "name": "stderr",
     "output_type": "stream",
     "text": [
      "WARNING:tensorflow:Learning rate reduction is conditioned on metric `val_acc` which is not available. Available metrics are: loss,accuracy,lr\n"
     ]
    },
    {
     "name": "stdout",
     "output_type": "stream",
     "text": [
      "142/142 [==============================] - 553s 4s/step - loss: 0.5283 - accuracy: 0.8489 - lr: 0.0010\n",
      "Epoch 9/50\n",
      "143/142 [==============================] - ETA: 0s - loss: 0.4397 - accuracy: 0.8753WARNING:tensorflow:Learning rate reduction is conditioned on metric `val_acc` which is not available. Available metrics are: loss,accuracy,lr\n"
     ]
    },
    {
     "name": "stderr",
     "output_type": "stream",
     "text": [
      "WARNING:tensorflow:Learning rate reduction is conditioned on metric `val_acc` which is not available. Available metrics are: loss,accuracy,lr\n"
     ]
    },
    {
     "name": "stdout",
     "output_type": "stream",
     "text": [
      "142/142 [==============================] - 558s 4s/step - loss: 0.4397 - accuracy: 0.8753 - lr: 0.0010\n",
      "Epoch 10/50\n",
      "143/142 [==============================] - ETA: 0s - loss: 0.4213 - accuracy: 0.8854WARNING:tensorflow:Learning rate reduction is conditioned on metric `val_acc` which is not available. Available metrics are: loss,accuracy,lr\n"
     ]
    },
    {
     "name": "stderr",
     "output_type": "stream",
     "text": [
      "WARNING:tensorflow:Learning rate reduction is conditioned on metric `val_acc` which is not available. Available metrics are: loss,accuracy,lr\n"
     ]
    },
    {
     "name": "stdout",
     "output_type": "stream",
     "text": [
      "142/142 [==============================] - 524s 4s/step - loss: 0.4213 - accuracy: 0.8854 - lr: 0.0010\n",
      "Epoch 11/50\n",
      "143/142 [==============================] - ETA: 0s - loss: 0.3680 - accuracy: 0.8921WARNING:tensorflow:Learning rate reduction is conditioned on metric `val_acc` which is not available. Available metrics are: loss,accuracy,lr\n"
     ]
    },
    {
     "name": "stderr",
     "output_type": "stream",
     "text": [
      "WARNING:tensorflow:Learning rate reduction is conditioned on metric `val_acc` which is not available. Available metrics are: loss,accuracy,lr\n"
     ]
    },
    {
     "name": "stdout",
     "output_type": "stream",
     "text": [
      "142/142 [==============================] - 523s 4s/step - loss: 0.3680 - accuracy: 0.8921 - lr: 0.0010\n",
      "Epoch 12/50\n",
      "143/142 [==============================] - ETA: 0s - loss: 0.3276 - accuracy: 0.9085WARNING:tensorflow:Learning rate reduction is conditioned on metric `val_acc` which is not available. Available metrics are: loss,accuracy,lr\n"
     ]
    },
    {
     "name": "stderr",
     "output_type": "stream",
     "text": [
      "WARNING:tensorflow:Learning rate reduction is conditioned on metric `val_acc` which is not available. Available metrics are: loss,accuracy,lr\n"
     ]
    },
    {
     "name": "stdout",
     "output_type": "stream",
     "text": [
      "142/142 [==============================] - 522s 4s/step - loss: 0.3276 - accuracy: 0.9085 - lr: 0.0010\n",
      "Epoch 13/50\n",
      "143/142 [==============================] - ETA: 0s - loss: 0.2724 - accuracy: 0.9251WARNING:tensorflow:Learning rate reduction is conditioned on metric `val_acc` which is not available. Available metrics are: loss,accuracy,lr\n"
     ]
    },
    {
     "name": "stderr",
     "output_type": "stream",
     "text": [
      "WARNING:tensorflow:Learning rate reduction is conditioned on metric `val_acc` which is not available. Available metrics are: loss,accuracy,lr\n"
     ]
    },
    {
     "name": "stdout",
     "output_type": "stream",
     "text": [
      "142/142 [==============================] - 498s 3s/step - loss: 0.2724 - accuracy: 0.9251 - lr: 0.0010\n",
      "Epoch 14/50\n",
      "143/142 [==============================] - ETA: 0s - loss: 0.2443 - accuracy: 0.9337WARNING:tensorflow:Learning rate reduction is conditioned on metric `val_acc` which is not available. Available metrics are: loss,accuracy,lr\n"
     ]
    },
    {
     "name": "stderr",
     "output_type": "stream",
     "text": [
      "WARNING:tensorflow:Learning rate reduction is conditioned on metric `val_acc` which is not available. Available metrics are: loss,accuracy,lr\n"
     ]
    },
    {
     "name": "stdout",
     "output_type": "stream",
     "text": [
      "142/142 [==============================] - 523s 4s/step - loss: 0.2443 - accuracy: 0.9337 - lr: 0.0010\n",
      "Epoch 15/50\n",
      "143/142 [==============================] - ETA: 0s - loss: 0.2560 - accuracy: 0.9337WARNING:tensorflow:Learning rate reduction is conditioned on metric `val_acc` which is not available. Available metrics are: loss,accuracy,lr\n"
     ]
    },
    {
     "name": "stderr",
     "output_type": "stream",
     "text": [
      "WARNING:tensorflow:Learning rate reduction is conditioned on metric `val_acc` which is not available. Available metrics are: loss,accuracy,lr\n"
     ]
    },
    {
     "name": "stdout",
     "output_type": "stream",
     "text": [
      "142/142 [==============================] - 514s 4s/step - loss: 0.2560 - accuracy: 0.9337 - lr: 0.0010\n",
      "Epoch 16/50\n",
      "143/142 [==============================] - ETA: 0s - loss: 0.2006 - accuracy: 0.9407WARNING:tensorflow:Learning rate reduction is conditioned on metric `val_acc` which is not available. Available metrics are: loss,accuracy,lr\n"
     ]
    },
    {
     "name": "stderr",
     "output_type": "stream",
     "text": [
      "WARNING:tensorflow:Learning rate reduction is conditioned on metric `val_acc` which is not available. Available metrics are: loss,accuracy,lr\n"
     ]
    },
    {
     "name": "stdout",
     "output_type": "stream",
     "text": [
      "142/142 [==============================] - 506s 4s/step - loss: 0.2006 - accuracy: 0.9407 - lr: 0.0010\n",
      "Epoch 17/50\n",
      "143/142 [==============================] - ETA: 0s - loss: 0.2536 - accuracy: 0.9318WARNING:tensorflow:Learning rate reduction is conditioned on metric `val_acc` which is not available. Available metrics are: loss,accuracy,lr\n"
     ]
    },
    {
     "name": "stderr",
     "output_type": "stream",
     "text": [
      "WARNING:tensorflow:Learning rate reduction is conditioned on metric `val_acc` which is not available. Available metrics are: loss,accuracy,lr\n"
     ]
    },
    {
     "name": "stdout",
     "output_type": "stream",
     "text": [
      "142/142 [==============================] - 497s 3s/step - loss: 0.2536 - accuracy: 0.9318 - lr: 0.0010\n",
      "Epoch 18/50\n",
      "143/142 [==============================] - ETA: 0s - loss: 0.2198 - accuracy: 0.9395WARNING:tensorflow:Learning rate reduction is conditioned on metric `val_acc` which is not available. Available metrics are: loss,accuracy,lr\n"
     ]
    },
    {
     "name": "stderr",
     "output_type": "stream",
     "text": [
      "WARNING:tensorflow:Learning rate reduction is conditioned on metric `val_acc` which is not available. Available metrics are: loss,accuracy,lr\n"
     ]
    },
    {
     "name": "stdout",
     "output_type": "stream",
     "text": [
      "142/142 [==============================] - 505s 4s/step - loss: 0.2198 - accuracy: 0.9395 - lr: 0.0010\n",
      "Epoch 19/50\n",
      "143/142 [==============================] - ETA: -29s - loss: 0.2041 - accuracy: 0.9458WARNING:tensorflow:Learning rate reduction is conditioned on metric `val_acc` which is not available. Available metrics are: loss,accuracy,lr\n"
     ]
    },
    {
     "name": "stderr",
     "output_type": "stream",
     "text": [
      "WARNING:tensorflow:Learning rate reduction is conditioned on metric `val_acc` which is not available. Available metrics are: loss,accuracy,lr\n"
     ]
    },
    {
     "name": "stdout",
     "output_type": "stream",
     "text": [
      "142/142 [==============================] - 17951s 126s/step - loss: 0.2041 - accuracy: 0.9458 - lr: 0.0010\n",
      "Epoch 20/50\n",
      "143/142 [==============================] - ETA: -7s - loss: 0.2066 - accuracy: 0.9468WARNING:tensorflow:Learning rate reduction is conditioned on metric `val_acc` which is not available. Available metrics are: loss,accuracy,lr\n"
     ]
    },
    {
     "name": "stderr",
     "output_type": "stream",
     "text": [
      "WARNING:tensorflow:Learning rate reduction is conditioned on metric `val_acc` which is not available. Available metrics are: loss,accuracy,lr\n"
     ]
    },
    {
     "name": "stdout",
     "output_type": "stream",
     "text": [
      "142/142 [==============================] - 4489s 32s/step - loss: 0.2066 - accuracy: 0.9468 - lr: 0.0010\n",
      "Epoch 21/50\n",
      "143/142 [==============================] - ETA: -1s - loss: 0.2047 - accuracy: 0.9407WARNING:tensorflow:Learning rate reduction is conditioned on metric `val_acc` which is not available. Available metrics are: loss,accuracy,lr\n"
     ]
    },
    {
     "name": "stderr",
     "output_type": "stream",
     "text": [
      "WARNING:tensorflow:Learning rate reduction is conditioned on metric `val_acc` which is not available. Available metrics are: loss,accuracy,lr\n"
     ]
    },
    {
     "name": "stdout",
     "output_type": "stream",
     "text": [
      "142/142 [==============================] - 766s 5s/step - loss: 0.2047 - accuracy: 0.9407 - lr: 0.0010\n",
      "Epoch 22/50\n",
      "143/142 [==============================] - ETA: -1s - loss: 0.1698 - accuracy: 0.9573WARNING:tensorflow:Learning rate reduction is conditioned on metric `val_acc` which is not available. Available metrics are: loss,accuracy,lr\n"
     ]
    },
    {
     "name": "stderr",
     "output_type": "stream",
     "text": [
      "WARNING:tensorflow:Learning rate reduction is conditioned on metric `val_acc` which is not available. Available metrics are: loss,accuracy,lr\n"
     ]
    },
    {
     "name": "stdout",
     "output_type": "stream",
     "text": [
      "142/142 [==============================] - 756s 5s/step - loss: 0.1698 - accuracy: 0.9573 - lr: 0.0010\n",
      "Epoch 23/50\n",
      "143/142 [==============================] - ETA: -1s - loss: 0.1500 - accuracy: 0.9594WARNING:tensorflow:Learning rate reduction is conditioned on metric `val_acc` which is not available. Available metrics are: loss,accuracy,lr\n"
     ]
    },
    {
     "name": "stderr",
     "output_type": "stream",
     "text": [
      "WARNING:tensorflow:Learning rate reduction is conditioned on metric `val_acc` which is not available. Available metrics are: loss,accuracy,lr\n"
     ]
    },
    {
     "name": "stdout",
     "output_type": "stream",
     "text": [
      "142/142 [==============================] - 753s 5s/step - loss: 0.1500 - accuracy: 0.9594 - lr: 0.0010\n",
      "Epoch 24/50\n",
      "143/142 [==============================] - ETA: -1s - loss: 0.1706 - accuracy: 0.9512WARNING:tensorflow:Learning rate reduction is conditioned on metric `val_acc` which is not available. Available metrics are: loss,accuracy,lr\n"
     ]
    },
    {
     "name": "stderr",
     "output_type": "stream",
     "text": [
      "WARNING:tensorflow:Learning rate reduction is conditioned on metric `val_acc` which is not available. Available metrics are: loss,accuracy,lr\n"
     ]
    },
    {
     "name": "stdout",
     "output_type": "stream",
     "text": [
      "142/142 [==============================] - 746s 5s/step - loss: 0.1706 - accuracy: 0.9512 - lr: 0.0010\n",
      "Epoch 25/50\n",
      "143/142 [==============================] - ETA: -1s - loss: 0.1537 - accuracy: 0.9556WARNING:tensorflow:Learning rate reduction is conditioned on metric `val_acc` which is not available. Available metrics are: loss,accuracy,lr\n"
     ]
    },
    {
     "name": "stderr",
     "output_type": "stream",
     "text": [
      "WARNING:tensorflow:Learning rate reduction is conditioned on metric `val_acc` which is not available. Available metrics are: loss,accuracy,lr\n"
     ]
    },
    {
     "name": "stdout",
     "output_type": "stream",
     "text": [
      "142/142 [==============================] - 750s 5s/step - loss: 0.1537 - accuracy: 0.9556 - lr: 0.0010\n",
      "Epoch 26/50\n",
      "143/142 [==============================] - ETA: -1s - loss: 0.2035 - accuracy: 0.9486WARNING:tensorflow:Learning rate reduction is conditioned on metric `val_acc` which is not available. Available metrics are: loss,accuracy,lr\n"
     ]
    },
    {
     "name": "stderr",
     "output_type": "stream",
     "text": [
      "WARNING:tensorflow:Learning rate reduction is conditioned on metric `val_acc` which is not available. Available metrics are: loss,accuracy,lr\n"
     ]
    },
    {
     "name": "stdout",
     "output_type": "stream",
     "text": [
      "142/142 [==============================] - 755s 5s/step - loss: 0.2035 - accuracy: 0.9486 - lr: 0.0010\n",
      "Epoch 27/50\n",
      "143/142 [==============================] - ETA: -1s - loss: 0.1910 - accuracy: 0.9528WARNING:tensorflow:Learning rate reduction is conditioned on metric `val_acc` which is not available. Available metrics are: loss,accuracy,lr\n"
     ]
    },
    {
     "name": "stderr",
     "output_type": "stream",
     "text": [
      "WARNING:tensorflow:Learning rate reduction is conditioned on metric `val_acc` which is not available. Available metrics are: loss,accuracy,lr\n"
     ]
    },
    {
     "name": "stdout",
     "output_type": "stream",
     "text": [
      "142/142 [==============================] - 737s 5s/step - loss: 0.1910 - accuracy: 0.9528 - lr: 0.0010\n",
      "Epoch 28/50\n",
      "143/142 [==============================] - ETA: 0s - loss: 0.1285 - accuracy: 0.9636WARNING:tensorflow:Learning rate reduction is conditioned on metric `val_acc` which is not available. Available metrics are: loss,accuracy,lr\n"
     ]
    },
    {
     "name": "stderr",
     "output_type": "stream",
     "text": [
      "WARNING:tensorflow:Learning rate reduction is conditioned on metric `val_acc` which is not available. Available metrics are: loss,accuracy,lr\n"
     ]
    },
    {
     "name": "stdout",
     "output_type": "stream",
     "text": [
      "142/142 [==============================] - 475s 3s/step - loss: 0.1285 - accuracy: 0.9636 - lr: 0.0010\n",
      "Epoch 29/50\n",
      "143/142 [==============================] - ETA: 0s - loss: 0.2164 - accuracy: 0.9433WARNING:tensorflow:Learning rate reduction is conditioned on metric `val_acc` which is not available. Available metrics are: loss,accuracy,lr\n"
     ]
    },
    {
     "name": "stderr",
     "output_type": "stream",
     "text": [
      "WARNING:tensorflow:Learning rate reduction is conditioned on metric `val_acc` which is not available. Available metrics are: loss,accuracy,lr\n"
     ]
    },
    {
     "name": "stdout",
     "output_type": "stream",
     "text": [
      "142/142 [==============================] - 480s 3s/step - loss: 0.2164 - accuracy: 0.9433 - lr: 0.0010\n",
      "Epoch 30/50\n",
      "143/142 [==============================] - ETA: 0s - loss: 0.1697 - accuracy: 0.9556WARNING:tensorflow:Learning rate reduction is conditioned on metric `val_acc` which is not available. Available metrics are: loss,accuracy,lr\n"
     ]
    },
    {
     "name": "stderr",
     "output_type": "stream",
     "text": [
      "WARNING:tensorflow:Learning rate reduction is conditioned on metric `val_acc` which is not available. Available metrics are: loss,accuracy,lr\n"
     ]
    },
    {
     "name": "stdout",
     "output_type": "stream",
     "text": [
      "142/142 [==============================] - 513s 4s/step - loss: 0.1697 - accuracy: 0.9556 - lr: 0.0010\n",
      "Epoch 31/50\n",
      "143/142 [==============================] - ETA: 0s - loss: 0.1510 - accuracy: 0.9626WARNING:tensorflow:Learning rate reduction is conditioned on metric `val_acc` which is not available. Available metrics are: loss,accuracy,lr\n"
     ]
    },
    {
     "name": "stderr",
     "output_type": "stream",
     "text": [
      "WARNING:tensorflow:Learning rate reduction is conditioned on metric `val_acc` which is not available. Available metrics are: loss,accuracy,lr\n"
     ]
    },
    {
     "name": "stdout",
     "output_type": "stream",
     "text": [
      "142/142 [==============================] - 509s 4s/step - loss: 0.1510 - accuracy: 0.9626 - lr: 0.0010\n",
      "Epoch 32/50\n",
      "143/142 [==============================] - ETA: 0s - loss: 0.1373 - accuracy: 0.9610WARNING:tensorflow:Learning rate reduction is conditioned on metric `val_acc` which is not available. Available metrics are: loss,accuracy,lr\n"
     ]
    },
    {
     "name": "stderr",
     "output_type": "stream",
     "text": [
      "WARNING:tensorflow:Learning rate reduction is conditioned on metric `val_acc` which is not available. Available metrics are: loss,accuracy,lr\n"
     ]
    },
    {
     "name": "stdout",
     "output_type": "stream",
     "text": [
      "142/142 [==============================] - 526s 4s/step - loss: 0.1373 - accuracy: 0.9610 - lr: 0.0010\n",
      "Epoch 33/50\n",
      "143/142 [==============================] - ETA: 0s - loss: 0.1178 - accuracy: 0.9647WARNING:tensorflow:Learning rate reduction is conditioned on metric `val_acc` which is not available. Available metrics are: loss,accuracy,lr\n"
     ]
    },
    {
     "name": "stderr",
     "output_type": "stream",
     "text": [
      "WARNING:tensorflow:Learning rate reduction is conditioned on metric `val_acc` which is not available. Available metrics are: loss,accuracy,lr\n"
     ]
    },
    {
     "name": "stdout",
     "output_type": "stream",
     "text": [
      "142/142 [==============================] - 479s 3s/step - loss: 0.1178 - accuracy: 0.9647 - lr: 0.0010\n",
      "Epoch 34/50\n",
      "143/142 [==============================] - ETA: 0s - loss: 0.1554 - accuracy: 0.9594WARNING:tensorflow:Learning rate reduction is conditioned on metric `val_acc` which is not available. Available metrics are: loss,accuracy,lr\n"
     ]
    },
    {
     "name": "stderr",
     "output_type": "stream",
     "text": [
      "WARNING:tensorflow:Learning rate reduction is conditioned on metric `val_acc` which is not available. Available metrics are: loss,accuracy,lr\n"
     ]
    },
    {
     "name": "stdout",
     "output_type": "stream",
     "text": [
      "142/142 [==============================] - 504s 4s/step - loss: 0.1554 - accuracy: 0.9594 - lr: 0.0010\n",
      "Epoch 35/50\n",
      "143/142 [==============================] - ETA: 0s - loss: 0.1560 - accuracy: 0.9575WARNING:tensorflow:Learning rate reduction is conditioned on metric `val_acc` which is not available. Available metrics are: loss,accuracy,lr\n"
     ]
    },
    {
     "name": "stderr",
     "output_type": "stream",
     "text": [
      "WARNING:tensorflow:Learning rate reduction is conditioned on metric `val_acc` which is not available. Available metrics are: loss,accuracy,lr\n"
     ]
    },
    {
     "name": "stdout",
     "output_type": "stream",
     "text": [
      "142/142 [==============================] - 490s 3s/step - loss: 0.1560 - accuracy: 0.9575 - lr: 0.0010\n",
      "Epoch 36/50\n",
      "143/142 [==============================] - ETA: 0s - loss: 0.1145 - accuracy: 0.9666WARNING:tensorflow:Learning rate reduction is conditioned on metric `val_acc` which is not available. Available metrics are: loss,accuracy,lr\n"
     ]
    },
    {
     "name": "stderr",
     "output_type": "stream",
     "text": [
      "WARNING:tensorflow:Learning rate reduction is conditioned on metric `val_acc` which is not available. Available metrics are: loss,accuracy,lr\n"
     ]
    },
    {
     "name": "stdout",
     "output_type": "stream",
     "text": [
      "142/142 [==============================] - 456s 3s/step - loss: 0.1145 - accuracy: 0.9666 - lr: 0.0010\n",
      "Epoch 37/50\n",
      "143/142 [==============================] - ETA: 0s - loss: 0.1554 - accuracy: 0.9603WARNING:tensorflow:Learning rate reduction is conditioned on metric `val_acc` which is not available. Available metrics are: loss,accuracy,lr\n"
     ]
    },
    {
     "name": "stderr",
     "output_type": "stream",
     "text": [
      "WARNING:tensorflow:Learning rate reduction is conditioned on metric `val_acc` which is not available. Available metrics are: loss,accuracy,lr\n"
     ]
    },
    {
     "name": "stdout",
     "output_type": "stream",
     "text": [
      "142/142 [==============================] - 489s 3s/step - loss: 0.1554 - accuracy: 0.9603 - lr: 0.0010\n",
      "Epoch 38/50\n",
      "143/142 [==============================] - ETA: 0s - loss: 0.1095 - accuracy: 0.9703WARNING:tensorflow:Learning rate reduction is conditioned on metric `val_acc` which is not available. Available metrics are: loss,accuracy,lr\n"
     ]
    },
    {
     "name": "stderr",
     "output_type": "stream",
     "text": [
      "WARNING:tensorflow:Learning rate reduction is conditioned on metric `val_acc` which is not available. Available metrics are: loss,accuracy,lr\n"
     ]
    },
    {
     "name": "stdout",
     "output_type": "stream",
     "text": [
      "142/142 [==============================] - 461s 3s/step - loss: 0.1095 - accuracy: 0.9703 - lr: 0.0010\n",
      "Epoch 39/50\n",
      "143/142 [==============================] - ETA: 0s - loss: 0.1095 - accuracy: 0.9678WARNING:tensorflow:Learning rate reduction is conditioned on metric `val_acc` which is not available. Available metrics are: loss,accuracy,lr\n"
     ]
    },
    {
     "name": "stderr",
     "output_type": "stream",
     "text": [
      "WARNING:tensorflow:Learning rate reduction is conditioned on metric `val_acc` which is not available. Available metrics are: loss,accuracy,lr\n"
     ]
    },
    {
     "name": "stdout",
     "output_type": "stream",
     "text": [
      "142/142 [==============================] - 560s 4s/step - loss: 0.1095 - accuracy: 0.9678 - lr: 0.0010\n",
      "Epoch 40/50\n",
      "143/142 [==============================] - ETA: -1s - loss: 0.1119 - accuracy: 0.9710WARNING:tensorflow:Learning rate reduction is conditioned on metric `val_acc` which is not available. Available metrics are: loss,accuracy,lr\n"
     ]
    },
    {
     "name": "stderr",
     "output_type": "stream",
     "text": [
      "WARNING:tensorflow:Learning rate reduction is conditioned on metric `val_acc` which is not available. Available metrics are: loss,accuracy,lr\n"
     ]
    },
    {
     "name": "stdout",
     "output_type": "stream",
     "text": [
      "142/142 [==============================] - 744s 5s/step - loss: 0.1119 - accuracy: 0.9710 - lr: 0.0010\n",
      "Epoch 41/50\n",
      "143/142 [==============================] - ETA: -1s - loss: 0.1336 - accuracy: 0.9650WARNING:tensorflow:Learning rate reduction is conditioned on metric `val_acc` which is not available. Available metrics are: loss,accuracy,lr\n"
     ]
    },
    {
     "name": "stderr",
     "output_type": "stream",
     "text": [
      "WARNING:tensorflow:Learning rate reduction is conditioned on metric `val_acc` which is not available. Available metrics are: loss,accuracy,lr\n"
     ]
    },
    {
     "name": "stdout",
     "output_type": "stream",
     "text": [
      "142/142 [==============================] - 745s 5s/step - loss: 0.1336 - accuracy: 0.9650 - lr: 0.0010\n",
      "Epoch 42/50\n",
      "143/142 [==============================] - ETA: -1s - loss: 0.1384 - accuracy: 0.9605WARNING:tensorflow:Learning rate reduction is conditioned on metric `val_acc` which is not available. Available metrics are: loss,accuracy,lr\n"
     ]
    },
    {
     "name": "stderr",
     "output_type": "stream",
     "text": [
      "WARNING:tensorflow:Learning rate reduction is conditioned on metric `val_acc` which is not available. Available metrics are: loss,accuracy,lr\n"
     ]
    },
    {
     "name": "stdout",
     "output_type": "stream",
     "text": [
      "142/142 [==============================] - 747s 5s/step - loss: 0.1384 - accuracy: 0.9605 - lr: 0.0010\n",
      "Epoch 43/50\n",
      "143/142 [==============================] - ETA: -1s - loss: 0.1209 - accuracy: 0.9659WARNING:tensorflow:Learning rate reduction is conditioned on metric `val_acc` which is not available. Available metrics are: loss,accuracy,lr\n"
     ]
    },
    {
     "name": "stderr",
     "output_type": "stream",
     "text": [
      "WARNING:tensorflow:Learning rate reduction is conditioned on metric `val_acc` which is not available. Available metrics are: loss,accuracy,lr\n"
     ]
    },
    {
     "name": "stdout",
     "output_type": "stream",
     "text": [
      "142/142 [==============================] - 749s 5s/step - loss: 0.1209 - accuracy: 0.9659 - lr: 0.0010\n",
      "Epoch 44/50\n",
      "143/142 [==============================] - ETA: -1s - loss: 0.1193 - accuracy: 0.9696WARNING:tensorflow:Learning rate reduction is conditioned on metric `val_acc` which is not available. Available metrics are: loss,accuracy,lr\n"
     ]
    },
    {
     "name": "stderr",
     "output_type": "stream",
     "text": [
      "WARNING:tensorflow:Learning rate reduction is conditioned on metric `val_acc` which is not available. Available metrics are: loss,accuracy,lr\n"
     ]
    },
    {
     "name": "stdout",
     "output_type": "stream",
     "text": [
      "142/142 [==============================] - 727s 5s/step - loss: 0.1193 - accuracy: 0.9696 - lr: 0.0010\n",
      "Epoch 45/50\n",
      "143/142 [==============================] - ETA: -1s - loss: 0.1118 - accuracy: 0.9703WARNING:tensorflow:Learning rate reduction is conditioned on metric `val_acc` which is not available. Available metrics are: loss,accuracy,lr\n"
     ]
    },
    {
     "name": "stderr",
     "output_type": "stream",
     "text": [
      "WARNING:tensorflow:Learning rate reduction is conditioned on metric `val_acc` which is not available. Available metrics are: loss,accuracy,lr\n"
     ]
    },
    {
     "name": "stdout",
     "output_type": "stream",
     "text": [
      "142/142 [==============================] - 728s 5s/step - loss: 0.1118 - accuracy: 0.9703 - lr: 0.0010\n",
      "Epoch 46/50\n",
      "143/142 [==============================] - ETA: -1s - loss: 0.1060 - accuracy: 0.9715WARNING:tensorflow:Learning rate reduction is conditioned on metric `val_acc` which is not available. Available metrics are: loss,accuracy,lr\n"
     ]
    },
    {
     "name": "stderr",
     "output_type": "stream",
     "text": [
      "WARNING:tensorflow:Learning rate reduction is conditioned on metric `val_acc` which is not available. Available metrics are: loss,accuracy,lr\n"
     ]
    },
    {
     "name": "stdout",
     "output_type": "stream",
     "text": [
      "142/142 [==============================] - 862s 6s/step - loss: 0.1060 - accuracy: 0.9715 - lr: 0.0010\n",
      "Epoch 47/50\n",
      "143/142 [==============================] - ETA: 0s - loss: 0.0773 - accuracy: 0.9778WARNING:tensorflow:Learning rate reduction is conditioned on metric `val_acc` which is not available. Available metrics are: loss,accuracy,lr\n"
     ]
    },
    {
     "name": "stderr",
     "output_type": "stream",
     "text": [
      "WARNING:tensorflow:Learning rate reduction is conditioned on metric `val_acc` which is not available. Available metrics are: loss,accuracy,lr\n"
     ]
    },
    {
     "name": "stdout",
     "output_type": "stream",
     "text": [
      "142/142 [==============================] - 436s 3s/step - loss: 0.0773 - accuracy: 0.9778 - lr: 0.0010\n",
      "Epoch 48/50\n",
      "143/142 [==============================] - ETA: 0s - loss: 0.0910 - accuracy: 0.9748WARNING:tensorflow:Learning rate reduction is conditioned on metric `val_acc` which is not available. Available metrics are: loss,accuracy,lr\n"
     ]
    },
    {
     "name": "stderr",
     "output_type": "stream",
     "text": [
      "WARNING:tensorflow:Learning rate reduction is conditioned on metric `val_acc` which is not available. Available metrics are: loss,accuracy,lr\n"
     ]
    },
    {
     "name": "stdout",
     "output_type": "stream",
     "text": [
      "142/142 [==============================] - 456s 3s/step - loss: 0.0910 - accuracy: 0.9748 - lr: 0.0010\n",
      "Epoch 49/50\n",
      "143/142 [==============================] - ETA: 0s - loss: 0.1462 - accuracy: 0.9589WARNING:tensorflow:Learning rate reduction is conditioned on metric `val_acc` which is not available. Available metrics are: loss,accuracy,lr\n"
     ]
    },
    {
     "name": "stderr",
     "output_type": "stream",
     "text": [
      "WARNING:tensorflow:Learning rate reduction is conditioned on metric `val_acc` which is not available. Available metrics are: loss,accuracy,lr\n"
     ]
    },
    {
     "name": "stdout",
     "output_type": "stream",
     "text": [
      "142/142 [==============================] - 457s 3s/step - loss: 0.1462 - accuracy: 0.9589 - lr: 0.0010\n",
      "Epoch 50/50\n",
      "143/142 [==============================] - ETA: 0s - loss: 0.1029 - accuracy: 0.9755WARNING:tensorflow:Learning rate reduction is conditioned on metric `val_acc` which is not available. Available metrics are: loss,accuracy,lr\n"
     ]
    },
    {
     "name": "stderr",
     "output_type": "stream",
     "text": [
      "WARNING:tensorflow:Learning rate reduction is conditioned on metric `val_acc` which is not available. Available metrics are: loss,accuracy,lr\n"
     ]
    },
    {
     "name": "stdout",
     "output_type": "stream",
     "text": [
      "\b\b\b\b\b\b\b\b\b\b\b\b\b\b\b\b\b\b\b\b\b\b\b\b\b\b\b\b\b\b\b\b\b\b\b\b\b\b\b\b\b\b\b\b\b\b\b\b\b\b\b\b\b\b\b\b\b\b\b\b\b\b\b\b\b\b\b\b\b\b\b\b\b\b\b\b\b\b\b\b\b\b\b\b\r",
      "142/142 [==============================] - 460s 3s/step - loss: 0.1029 - accuracy: 0.9755 - lr: 0.0010\n"
     ]
    }
   ],
   "source": [
    "history = model.fit_generator(\n",
    "    train_generator,\n",
    "    steps_per_epoch=4283 / 30,\n",
    "    epochs=50,\n",
    "    validation_data=validation_generator,\n",
    "    validation_steps=50,\n",
    "    verbose=1,\n",
    "    callbacks=[learning_rate_reduction]\n",
    ")\n"
   ]
  },
  {
   "cell_type": "code",
   "execution_count": 100,
   "id": "357b1927",
   "metadata": {
    "scrolled": true
   },
   "outputs": [],
   "source": [
    "from tensorflow.keras.models import load_model\n",
    "model.save('flag_detection.keras')"
   ]
  },
  {
   "cell_type": "code",
   "execution_count": 101,
   "id": "81bf40e1",
   "metadata": {},
   "outputs": [
    {
     "data": {
      "text/plain": [
       "['loss', 'accuracy']"
      ]
     },
     "execution_count": 101,
     "metadata": {},
     "output_type": "execute_result"
    }
   ],
   "source": [
    "model.metrics_names"
   ]
  },
  {
   "cell_type": "code",
   "execution_count": 102,
   "id": "cbabc657",
   "metadata": {},
   "outputs": [
    {
     "name": "stdout",
     "output_type": "stream",
     "text": [
      "35/35 [==============================] - 23s 656ms/step - loss: 0.1217 - accuracy: 0.9714\n"
     ]
    },
    {
     "data": {
      "text/plain": [
       "[0.12165950238704681, 0.9714013338088989]"
      ]
     },
     "execution_count": 102,
     "metadata": {},
     "output_type": "execute_result"
    }
   ],
   "source": [
    "model.evaluate(validation_generator)"
   ]
  },
  {
   "cell_type": "code",
   "execution_count": 103,
   "id": "a9d650e6",
   "metadata": {},
   "outputs": [
    {
     "name": "stdout",
     "output_type": "stream",
     "text": [
      "35/35 [==============================] - 24s 677ms/step\n"
     ]
    }
   ],
   "source": [
    "pred_probabilities=model.predict(validation_generator)"
   ]
  },
  {
   "cell_type": "code",
   "execution_count": 104,
   "id": "a7f81070",
   "metadata": {},
   "outputs": [
    {
     "data": {
      "text/plain": [
       "array([[5.60397282e-04, 9.19722152e-05, 8.22396250e-04, ...,\n",
       "        4.72217827e-04, 9.54590261e-01, 2.48912165e-05],\n",
       "       [2.98097249e-25, 1.00000000e+00, 7.01015240e-33, ...,\n",
       "        6.65724640e-23, 1.34505030e-32, 2.73790619e-32],\n",
       "       [0.00000000e+00, 1.04598256e-29, 4.39419166e-34, ...,\n",
       "        2.82108862e-26, 0.00000000e+00, 1.00000000e+00],\n",
       "       ...,\n",
       "       [0.00000000e+00, 0.00000000e+00, 1.00000000e+00, ...,\n",
       "        0.00000000e+00, 4.55169579e-36, 0.00000000e+00],\n",
       "       [1.27029243e-09, 9.58810809e-09, 2.73016436e-11, ...,\n",
       "        1.18747275e-05, 2.48527110e-17, 1.73364751e-04],\n",
       "       [1.00000000e+00, 3.09137459e-16, 8.21981948e-15, ...,\n",
       "        2.60167286e-21, 1.13219270e-24, 6.51316064e-23]], dtype=float32)"
      ]
     },
     "execution_count": 104,
     "metadata": {},
     "output_type": "execute_result"
    }
   ],
   "source": [
    "pred_probabilities"
   ]
  },
  {
   "cell_type": "code",
   "execution_count": 106,
   "id": "8db73b3e",
   "metadata": {},
   "outputs": [
    {
     "data": {
      "text/plain": [
       "{'Argentina': 0,\n",
       " 'Australia': 1,\n",
       " 'Brazil': 2,\n",
       " 'China': 3,\n",
       " 'Germany': 4,\n",
       " 'Japan': 5,\n",
       " 'Mexico': 6,\n",
       " 'Russia': 7,\n",
       " 'Saudi Arabia': 8,\n",
       " 'Spain': 9}"
      ]
     },
     "execution_count": 106,
     "metadata": {},
     "output_type": "execute_result"
    }
   ],
   "source": [
    "validation_generator.class_indices"
   ]
  },
  {
   "cell_type": "code",
   "execution_count": 107,
   "id": "d71f3f08",
   "metadata": {},
   "outputs": [
    {
     "data": {
      "text/plain": [
       "array([0, 0, 0, ..., 9, 9, 9])"
      ]
     },
     "execution_count": 107,
     "metadata": {},
     "output_type": "execute_result"
    }
   ],
   "source": [
    "validation_generator.classes"
   ]
  },
  {
   "cell_type": "code",
   "execution_count": 109,
   "id": "ea636ef3",
   "metadata": {},
   "outputs": [],
   "source": [
    "predictions= pred_probabilities>0.5"
   ]
  },
  {
   "cell_type": "code",
   "execution_count": 110,
   "id": "54b028db",
   "metadata": {},
   "outputs": [
    {
     "data": {
      "text/plain": [
       "array([[False, False, False, ..., False,  True, False],\n",
       "       [False,  True, False, ..., False, False, False],\n",
       "       [False, False, False, ..., False, False,  True],\n",
       "       ...,\n",
       "       [False, False,  True, ..., False, False, False],\n",
       "       [False, False, False, ..., False, False, False],\n",
       "       [ True, False, False, ..., False, False, False]])"
      ]
     },
     "execution_count": 110,
     "metadata": {},
     "output_type": "execute_result"
    }
   ],
   "source": [
    "predictions"
   ]
  },
  {
   "cell_type": "code",
   "execution_count": 118,
   "id": "bafa4600",
   "metadata": {},
   "outputs": [
    {
     "data": {
      "image/png": "[encoded data removed]",
      "text/plain": [
       "<Figure size 640x480 with 2 Axes>"
      ]
     },
     "metadata": {},
     "output_type": "display_data"
    }
   ],
   "source": [
    "fig, ax = plt.subplots(2,1)\n",
    "ax[0].plot(history.history['loss'], color='b', label=\"Training loss\")\n",
    "legend = ax[0].legend(loc='best', shadow=True)\n",
    "\n",
    "ax[1].plot(history.history['accuracy'], color='b', label=\"Training accuracy\")\n",
    "legend = ax[1].legend(loc='best', shadow=True)"
   ]
  },
  {
   "cell_type": "code",
   "execution_count": 119,
   "id": "8cf37d0b",
   "metadata": {},
   "outputs": [],
   "source": [
    "from sklearn.metrics import confusion_matrix"
   ]
  },
  {
   "cell_type": "code",
   "execution_count": 123,
   "id": "451b582e",
   "metadata": {},
   "outputs": [
    {
     "name": "stdout",
     "output_type": "stream",
     "text": [
      "['loss', 'accuracy']\n"
     ]
    }
   ],
   "source": [
    "print(model.metrics_names)\n"
   ]
  },
  {
   "cell_type": "code",
   "execution_count": 116,
   "id": "708f2006",
   "metadata": {},
   "outputs": [
    {
     "name": "stdout",
     "output_type": "stream",
     "text": [
      "1/1 [==============================] - 0s 232ms/step\n",
      "[[1.000000e+00 0.000000e+00 0.000000e+00 0.000000e+00 3.258711e-11\n",
      "  0.000000e+00 0.000000e+00 0.000000e+00 0.000000e+00 0.000000e+00]]\n",
      "{'Argentina': 0, 'Australia': 1, 'Brazil': 2, 'China': 3, 'Germany': 4, 'Japan': 5, 'Mexico': 6, 'Russia': 7, 'Saudi Arabia': 8, 'Spain': 9}\n"
     ]
    }
   ],
   "source": [
    "from keras.preprocessing import image\n",
    "\n",
    "test = image.load_img(r'C:\\Users\\deepthi devaraj\\flag_data\\10_country_test\\Argentina\\0 (3).jpeg',\n",
    "                      target_size=(64, 64))\n",
    "test = image.img_to_array(test)\n",
    "test = np.expand_dims(test, axis=0)\n",
    "\n",
    "print(model.predict(test))\n",
    "print(train_generator.class_indices)"
   ]
  }
 ],
 "metadata": {
  "kernelspec": {
   "display_name": "Python 3 (ipykernel)",
   "language": "python",
   "name": "python3"
  },
  "language_info": {
   "codemirror_mode": {
    "name": "ipython",
    "version": 3
   },
   "file_extension": ".py",
   "mimetype": "text/x-python",
   "name": "python",
   "nbconvert_exporter": "python",
   "pygments_lexer": "ipython3",
   "version": "3.11.4"
  }
 },
 "nbformat": 4,
 "nbformat_minor": 5
}
